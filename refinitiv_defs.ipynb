{
 "cells": [
  {
   "cell_type": "code",
   "execution_count": 2,
   "metadata": {},
   "outputs": [
    {
     "data": {
      "text/plain": [
       "<refinitiv.data.session.Definition object at 0x1830bdd8460 {name='workspace'}>"
      ]
     },
     "execution_count": 2,
     "metadata": {},
     "output_type": "execute_result"
    }
   ],
   "source": [
    "import pandas as pd\n",
    "import os\n",
    "import refinitiv.data as rd\n",
    "# reference: https://developers.refinitiv.com/en/api-catalog/refinitiv-data-platform/refinitiv-data-library-for-python\n",
    "os.environ[\"RD_LIB_CONFIG_PATH\"] = \"../Configuration\"\n",
    "\n",
    "# Open the default Session\n",
    "rd.open_session()\n",
    "\n",
    "#\n",
    "# Run your application code\n",
    "#"
   ]
  },
  {
   "cell_type": "code",
   "execution_count": 28,
   "metadata": {},
   "outputs": [],
   "source": [
    "df_variable = pd.read_csv('Refinitiv_Codebook.csv')\n",
    "formula_list = df_variable['Variable_Formula'].dropna().tolist()"
   ]
  },
  {
   "cell_type": "code",
   "execution_count": 27,
   "metadata": {},
   "outputs": [],
   "source": [
    "import refinitiv.data as rd\n",
    "\n",
    "def api_history(instrument):\n",
    "    df_temp = rd.get_history(\n",
    "    universe=[instrument],\n",
    "    fields=formula_list,\n",
    "    interval=\"1Y\",\n",
    "    start=\"1995-01-01\",\n",
    "    end=\"2022-01-01\",\n",
    "    )\n",
    "    try:\n",
    "        df_temp = df_temp.groupby('Date').first()\n",
    "    except:\n",
    "        df_temp = df_temp\n",
    "        f\"Groupby Date error encountered at {instrument}\"\n",
    "    # replace blank values with NAs\n",
    "    try:\n",
    "        df_temp = df_temp.mask(df_temp == '')\n",
    "    except:\n",
    "        df_temp = df_temp\n",
    "        f\"Mask empty space error encountered at {instrument}\"\n",
    "    # drop rows with all NAs\n",
    "    df_temp.dropna(axis = 0, how = 'all', inplace = True)\n",
    "    # warnings regarding fragmentation\n",
    "    df_temp.insert(0, 'Instrument', instrument)\n",
    "    return df_temp"
   ]
  }
 ],
 "metadata": {
  "kernelspec": {
   "display_name": "Python 3",
   "language": "python",
   "name": "python3"
  },
  "language_info": {
   "codemirror_mode": {
    "name": "ipython",
    "version": 3
   },
   "file_extension": ".py",
   "mimetype": "text/x-python",
   "name": "python",
   "nbconvert_exporter": "python",
   "pygments_lexer": "ipython3",
   "version": "3.8.5"
  }
 },
 "nbformat": 4,
 "nbformat_minor": 4
}
